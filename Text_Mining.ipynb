{
 "cells": [
  {
   "cell_type": "code",
   "execution_count": 2,
   "metadata": {},
   "outputs": [],
   "source": [
    "import pandas as pd\n",
    "import numpy as np\n",
    "import matplotlib.pyplot as plt\n",
    "\n",
    "%matplotlib notebook"
   ]
  },
  {
   "cell_type": "code",
   "execution_count": 3,
   "metadata": {},
   "outputs": [],
   "source": [
    "df = pd.read_json('data/yelpreviews_50K.json', lines = True)"
   ]
  },
  {
   "cell_type": "code",
   "execution_count": 4,
   "metadata": {},
   "outputs": [
    {
     "data": {
      "text/html": [
       "<div>\n",
       "<style scoped>\n",
       "    .dataframe tbody tr th:only-of-type {\n",
       "        vertical-align: middle;\n",
       "    }\n",
       "\n",
       "    .dataframe tbody tr th {\n",
       "        vertical-align: top;\n",
       "    }\n",
       "\n",
       "    .dataframe thead th {\n",
       "        text-align: right;\n",
       "    }\n",
       "</style>\n",
       "<table border=\"1\" class=\"dataframe\">\n",
       "  <thead>\n",
       "    <tr style=\"text-align: right;\">\n",
       "      <th></th>\n",
       "      <th>business_id</th>\n",
       "      <th>cool</th>\n",
       "      <th>date</th>\n",
       "      <th>funny</th>\n",
       "      <th>review_id</th>\n",
       "      <th>stars</th>\n",
       "      <th>text</th>\n",
       "      <th>useful</th>\n",
       "      <th>user_id</th>\n",
       "    </tr>\n",
       "  </thead>\n",
       "  <tbody>\n",
       "    <tr>\n",
       "      <th>0</th>\n",
       "      <td>-MhfebM0QIsKt87iDN-FNw</td>\n",
       "      <td>0</td>\n",
       "      <td>2015-04-15 05:21:16</td>\n",
       "      <td>0</td>\n",
       "      <td>xQY8N_XvtGbearJ5X4QryQ</td>\n",
       "      <td>2</td>\n",
       "      <td>As someone who has worked with many museums, I...</td>\n",
       "      <td>5</td>\n",
       "      <td>OwjRMXRC0KyPrIlcjaXeFQ</td>\n",
       "    </tr>\n",
       "    <tr>\n",
       "      <th>1</th>\n",
       "      <td>lbrU8StCq3yDfr-QMnGrmQ</td>\n",
       "      <td>0</td>\n",
       "      <td>2013-12-07 03:16:52</td>\n",
       "      <td>1</td>\n",
       "      <td>UmFMZ8PyXZTY2QcwzsfQYA</td>\n",
       "      <td>1</td>\n",
       "      <td>I am actually horrified this place is still in...</td>\n",
       "      <td>1</td>\n",
       "      <td>nIJD_7ZXHq-FX8byPMOkMQ</td>\n",
       "    </tr>\n",
       "    <tr>\n",
       "      <th>2</th>\n",
       "      <td>HQl28KMwrEKHqhFrrDqVNQ</td>\n",
       "      <td>0</td>\n",
       "      <td>2015-12-05 03:18:11</td>\n",
       "      <td>0</td>\n",
       "      <td>LG2ZaYiOgpr2DK_90pYjNw</td>\n",
       "      <td>5</td>\n",
       "      <td>I love Deagan's. I do. I really do. The atmosp...</td>\n",
       "      <td>1</td>\n",
       "      <td>V34qejxNsCbcgD8C0HVk-Q</td>\n",
       "    </tr>\n",
       "    <tr>\n",
       "      <th>3</th>\n",
       "      <td>5JxlZaqCnk1MnbgRirs40Q</td>\n",
       "      <td>0</td>\n",
       "      <td>2011-05-27 05:30:52</td>\n",
       "      <td>0</td>\n",
       "      <td>i6g_oA9Yf9Y31qt0wibXpw</td>\n",
       "      <td>1</td>\n",
       "      <td>Dismal, lukewarm, defrosted-tasting \"TexMex\" g...</td>\n",
       "      <td>0</td>\n",
       "      <td>ofKDkJKXSKZXu5xJNGiiBQ</td>\n",
       "    </tr>\n",
       "    <tr>\n",
       "      <th>4</th>\n",
       "      <td>IS4cv902ykd8wj1TR0N3-A</td>\n",
       "      <td>0</td>\n",
       "      <td>2017-01-14 21:56:57</td>\n",
       "      <td>0</td>\n",
       "      <td>6TdNDKywdbjoTkizeMce8A</td>\n",
       "      <td>4</td>\n",
       "      <td>Oh happy day, finally have a Canes near my cas...</td>\n",
       "      <td>0</td>\n",
       "      <td>UgMW8bLE0QMJDCkQ1Ax5Mg</td>\n",
       "    </tr>\n",
       "  </tbody>\n",
       "</table>\n",
       "</div>"
      ],
      "text/plain": [
       "              business_id  cool                date  funny  \\\n",
       "0  -MhfebM0QIsKt87iDN-FNw     0 2015-04-15 05:21:16      0   \n",
       "1  lbrU8StCq3yDfr-QMnGrmQ     0 2013-12-07 03:16:52      1   \n",
       "2  HQl28KMwrEKHqhFrrDqVNQ     0 2015-12-05 03:18:11      0   \n",
       "3  5JxlZaqCnk1MnbgRirs40Q     0 2011-05-27 05:30:52      0   \n",
       "4  IS4cv902ykd8wj1TR0N3-A     0 2017-01-14 21:56:57      0   \n",
       "\n",
       "                review_id  stars  \\\n",
       "0  xQY8N_XvtGbearJ5X4QryQ      2   \n",
       "1  UmFMZ8PyXZTY2QcwzsfQYA      1   \n",
       "2  LG2ZaYiOgpr2DK_90pYjNw      5   \n",
       "3  i6g_oA9Yf9Y31qt0wibXpw      1   \n",
       "4  6TdNDKywdbjoTkizeMce8A      4   \n",
       "\n",
       "                                                text  useful  \\\n",
       "0  As someone who has worked with many museums, I...       5   \n",
       "1  I am actually horrified this place is still in...       1   \n",
       "2  I love Deagan's. I do. I really do. The atmosp...       1   \n",
       "3  Dismal, lukewarm, defrosted-tasting \"TexMex\" g...       0   \n",
       "4  Oh happy day, finally have a Canes near my cas...       0   \n",
       "\n",
       "                  user_id  \n",
       "0  OwjRMXRC0KyPrIlcjaXeFQ  \n",
       "1  nIJD_7ZXHq-FX8byPMOkMQ  \n",
       "2  V34qejxNsCbcgD8C0HVk-Q  \n",
       "3  ofKDkJKXSKZXu5xJNGiiBQ  \n",
       "4  UgMW8bLE0QMJDCkQ1Ax5Mg  "
      ]
     },
     "execution_count": 4,
     "metadata": {},
     "output_type": "execute_result"
    }
   ],
   "source": [
    "df.head()"
   ]
  },
  {
   "cell_type": "code",
   "execution_count": 5,
   "metadata": {},
   "outputs": [
    {
     "data": {
      "text/html": [
       "<div>\n",
       "<style scoped>\n",
       "    .dataframe tbody tr th:only-of-type {\n",
       "        vertical-align: middle;\n",
       "    }\n",
       "\n",
       "    .dataframe tbody tr th {\n",
       "        vertical-align: top;\n",
       "    }\n",
       "\n",
       "    .dataframe thead th {\n",
       "        text-align: right;\n",
       "    }\n",
       "</style>\n",
       "<table border=\"1\" class=\"dataframe\">\n",
       "  <thead>\n",
       "    <tr style=\"text-align: right;\">\n",
       "      <th></th>\n",
       "      <th>cool</th>\n",
       "      <th>funny</th>\n",
       "      <th>stars</th>\n",
       "      <th>useful</th>\n",
       "    </tr>\n",
       "  </thead>\n",
       "  <tbody>\n",
       "    <tr>\n",
       "      <th>count</th>\n",
       "      <td>50000.000000</td>\n",
       "      <td>50000.000000</td>\n",
       "      <td>50000.000000</td>\n",
       "      <td>50000.00000</td>\n",
       "    </tr>\n",
       "    <tr>\n",
       "      <th>mean</th>\n",
       "      <td>0.448920</td>\n",
       "      <td>0.369840</td>\n",
       "      <td>3.751000</td>\n",
       "      <td>1.09776</td>\n",
       "    </tr>\n",
       "    <tr>\n",
       "      <th>std</th>\n",
       "      <td>1.441885</td>\n",
       "      <td>1.345412</td>\n",
       "      <td>1.433862</td>\n",
       "      <td>2.37475</td>\n",
       "    </tr>\n",
       "    <tr>\n",
       "      <th>min</th>\n",
       "      <td>0.000000</td>\n",
       "      <td>0.000000</td>\n",
       "      <td>1.000000</td>\n",
       "      <td>0.00000</td>\n",
       "    </tr>\n",
       "    <tr>\n",
       "      <th>25%</th>\n",
       "      <td>0.000000</td>\n",
       "      <td>0.000000</td>\n",
       "      <td>3.000000</td>\n",
       "      <td>0.00000</td>\n",
       "    </tr>\n",
       "    <tr>\n",
       "      <th>50%</th>\n",
       "      <td>0.000000</td>\n",
       "      <td>0.000000</td>\n",
       "      <td>4.000000</td>\n",
       "      <td>0.00000</td>\n",
       "    </tr>\n",
       "    <tr>\n",
       "      <th>75%</th>\n",
       "      <td>0.000000</td>\n",
       "      <td>0.000000</td>\n",
       "      <td>5.000000</td>\n",
       "      <td>1.00000</td>\n",
       "    </tr>\n",
       "    <tr>\n",
       "      <th>max</th>\n",
       "      <td>93.000000</td>\n",
       "      <td>75.000000</td>\n",
       "      <td>5.000000</td>\n",
       "      <td>98.00000</td>\n",
       "    </tr>\n",
       "  </tbody>\n",
       "</table>\n",
       "</div>"
      ],
      "text/plain": [
       "               cool         funny         stars       useful\n",
       "count  50000.000000  50000.000000  50000.000000  50000.00000\n",
       "mean       0.448920      0.369840      3.751000      1.09776\n",
       "std        1.441885      1.345412      1.433862      2.37475\n",
       "min        0.000000      0.000000      1.000000      0.00000\n",
       "25%        0.000000      0.000000      3.000000      0.00000\n",
       "50%        0.000000      0.000000      4.000000      0.00000\n",
       "75%        0.000000      0.000000      5.000000      1.00000\n",
       "max       93.000000     75.000000      5.000000     98.00000"
      ]
     },
     "execution_count": 5,
     "metadata": {},
     "output_type": "execute_result"
    }
   ],
   "source": [
    "df.describe()"
   ]
  },
  {
   "cell_type": "code",
   "execution_count": 6,
   "metadata": {},
   "outputs": [
    {
     "name": "stdout",
     "output_type": "stream",
     "text": [
      "<class 'pandas.core.frame.DataFrame'>\n",
      "RangeIndex: 50000 entries, 0 to 49999\n",
      "Data columns (total 9 columns):\n",
      "business_id    50000 non-null object\n",
      "cool           50000 non-null int64\n",
      "date           50000 non-null datetime64[ns]\n",
      "funny          50000 non-null int64\n",
      "review_id      50000 non-null object\n",
      "stars          50000 non-null int64\n",
      "text           50000 non-null object\n",
      "useful         50000 non-null int64\n",
      "user_id        50000 non-null object\n",
      "dtypes: datetime64[ns](1), int64(4), object(4)\n",
      "memory usage: 3.4+ MB\n"
     ]
    }
   ],
   "source": [
    "df.info()"
   ]
  },
  {
   "cell_type": "code",
   "execution_count": 7,
   "metadata": {},
   "outputs": [
    {
     "data": {
      "text/html": [
       "<div>\n",
       "<style scoped>\n",
       "    .dataframe tbody tr th:only-of-type {\n",
       "        vertical-align: middle;\n",
       "    }\n",
       "\n",
       "    .dataframe tbody tr th {\n",
       "        vertical-align: top;\n",
       "    }\n",
       "\n",
       "    .dataframe thead tr th {\n",
       "        text-align: left;\n",
       "    }\n",
       "\n",
       "    .dataframe thead tr:last-of-type th {\n",
       "        text-align: right;\n",
       "    }\n",
       "</style>\n",
       "<table border=\"1\" class=\"dataframe\">\n",
       "  <thead>\n",
       "    <tr>\n",
       "      <th></th>\n",
       "      <th colspan=\"8\" halign=\"left\">cool</th>\n",
       "      <th colspan=\"5\" halign=\"left\">funny</th>\n",
       "      <th colspan=\"8\" halign=\"left\">useful</th>\n",
       "    </tr>\n",
       "    <tr>\n",
       "      <th></th>\n",
       "      <th>count</th>\n",
       "      <th>mean</th>\n",
       "      <th>std</th>\n",
       "      <th>min</th>\n",
       "      <th>25%</th>\n",
       "      <th>50%</th>\n",
       "      <th>75%</th>\n",
       "      <th>max</th>\n",
       "      <th>count</th>\n",
       "      <th>mean</th>\n",
       "      <th>...</th>\n",
       "      <th>75%</th>\n",
       "      <th>max</th>\n",
       "      <th>count</th>\n",
       "      <th>mean</th>\n",
       "      <th>std</th>\n",
       "      <th>min</th>\n",
       "      <th>25%</th>\n",
       "      <th>50%</th>\n",
       "      <th>75%</th>\n",
       "      <th>max</th>\n",
       "    </tr>\n",
       "    <tr>\n",
       "      <th>stars</th>\n",
       "      <th></th>\n",
       "      <th></th>\n",
       "      <th></th>\n",
       "      <th></th>\n",
       "      <th></th>\n",
       "      <th></th>\n",
       "      <th></th>\n",
       "      <th></th>\n",
       "      <th></th>\n",
       "      <th></th>\n",
       "      <th></th>\n",
       "      <th></th>\n",
       "      <th></th>\n",
       "      <th></th>\n",
       "      <th></th>\n",
       "      <th></th>\n",
       "      <th></th>\n",
       "      <th></th>\n",
       "      <th></th>\n",
       "      <th></th>\n",
       "      <th></th>\n",
       "    </tr>\n",
       "  </thead>\n",
       "  <tbody>\n",
       "    <tr>\n",
       "      <th>1</th>\n",
       "      <td>6911.0</td>\n",
       "      <td>0.197511</td>\n",
       "      <td>0.685111</td>\n",
       "      <td>0.0</td>\n",
       "      <td>0.0</td>\n",
       "      <td>0.0</td>\n",
       "      <td>0.0</td>\n",
       "      <td>12.0</td>\n",
       "      <td>6911.0</td>\n",
       "      <td>0.527709</td>\n",
       "      <td>...</td>\n",
       "      <td>1.0</td>\n",
       "      <td>33.0</td>\n",
       "      <td>6911.0</td>\n",
       "      <td>1.633628</td>\n",
       "      <td>3.151145</td>\n",
       "      <td>0.0</td>\n",
       "      <td>0.0</td>\n",
       "      <td>1.0</td>\n",
       "      <td>2.0</td>\n",
       "      <td>75.0</td>\n",
       "    </tr>\n",
       "    <tr>\n",
       "      <th>2</th>\n",
       "      <td>4034.0</td>\n",
       "      <td>0.320526</td>\n",
       "      <td>1.173363</td>\n",
       "      <td>0.0</td>\n",
       "      <td>0.0</td>\n",
       "      <td>0.0</td>\n",
       "      <td>0.0</td>\n",
       "      <td>31.0</td>\n",
       "      <td>4034.0</td>\n",
       "      <td>0.530739</td>\n",
       "      <td>...</td>\n",
       "      <td>0.0</td>\n",
       "      <td>66.0</td>\n",
       "      <td>4034.0</td>\n",
       "      <td>1.311849</td>\n",
       "      <td>2.464511</td>\n",
       "      <td>0.0</td>\n",
       "      <td>0.0</td>\n",
       "      <td>0.0</td>\n",
       "      <td>2.0</td>\n",
       "      <td>44.0</td>\n",
       "    </tr>\n",
       "    <tr>\n",
       "      <th>3</th>\n",
       "      <td>5605.0</td>\n",
       "      <td>0.450669</td>\n",
       "      <td>1.194922</td>\n",
       "      <td>0.0</td>\n",
       "      <td>0.0</td>\n",
       "      <td>0.0</td>\n",
       "      <td>0.0</td>\n",
       "      <td>21.0</td>\n",
       "      <td>5605.0</td>\n",
       "      <td>0.424442</td>\n",
       "      <td>...</td>\n",
       "      <td>0.0</td>\n",
       "      <td>15.0</td>\n",
       "      <td>5605.0</td>\n",
       "      <td>1.042284</td>\n",
       "      <td>1.818150</td>\n",
       "      <td>0.0</td>\n",
       "      <td>0.0</td>\n",
       "      <td>0.0</td>\n",
       "      <td>1.0</td>\n",
       "      <td>21.0</td>\n",
       "    </tr>\n",
       "    <tr>\n",
       "      <th>4</th>\n",
       "      <td>11494.0</td>\n",
       "      <td>0.650426</td>\n",
       "      <td>1.769975</td>\n",
       "      <td>0.0</td>\n",
       "      <td>0.0</td>\n",
       "      <td>0.0</td>\n",
       "      <td>1.0</td>\n",
       "      <td>47.0</td>\n",
       "      <td>11494.0</td>\n",
       "      <td>0.411780</td>\n",
       "      <td>...</td>\n",
       "      <td>0.0</td>\n",
       "      <td>45.0</td>\n",
       "      <td>11494.0</td>\n",
       "      <td>1.107099</td>\n",
       "      <td>2.257872</td>\n",
       "      <td>0.0</td>\n",
       "      <td>0.0</td>\n",
       "      <td>0.0</td>\n",
       "      <td>1.0</td>\n",
       "      <td>48.0</td>\n",
       "    </tr>\n",
       "    <tr>\n",
       "      <th>5</th>\n",
       "      <td>21956.0</td>\n",
       "      <td>0.445710</td>\n",
       "      <td>1.511759</td>\n",
       "      <td>0.0</td>\n",
       "      <td>0.0</td>\n",
       "      <td>0.0</td>\n",
       "      <td>0.0</td>\n",
       "      <td>93.0</td>\n",
       "      <td>21956.0</td>\n",
       "      <td>0.254691</td>\n",
       "      <td>...</td>\n",
       "      <td>0.0</td>\n",
       "      <td>75.0</td>\n",
       "      <td>21956.0</td>\n",
       "      <td>0.899025</td>\n",
       "      <td>2.224940</td>\n",
       "      <td>0.0</td>\n",
       "      <td>0.0</td>\n",
       "      <td>0.0</td>\n",
       "      <td>1.0</td>\n",
       "      <td>98.0</td>\n",
       "    </tr>\n",
       "  </tbody>\n",
       "</table>\n",
       "<p>5 rows × 24 columns</p>\n",
       "</div>"
      ],
      "text/plain": [
       "          cool                                                  funny  \\\n",
       "         count      mean       std  min  25%  50%  75%   max    count   \n",
       "stars                                                                   \n",
       "1       6911.0  0.197511  0.685111  0.0  0.0  0.0  0.0  12.0   6911.0   \n",
       "2       4034.0  0.320526  1.173363  0.0  0.0  0.0  0.0  31.0   4034.0   \n",
       "3       5605.0  0.450669  1.194922  0.0  0.0  0.0  0.0  21.0   5605.0   \n",
       "4      11494.0  0.650426  1.769975  0.0  0.0  0.0  1.0  47.0  11494.0   \n",
       "5      21956.0  0.445710  1.511759  0.0  0.0  0.0  0.0  93.0  21956.0   \n",
       "\n",
       "                 ...              useful                                     \\\n",
       "           mean  ...  75%   max    count      mean       std  min  25%  50%   \n",
       "stars            ...                                                          \n",
       "1      0.527709  ...  1.0  33.0   6911.0  1.633628  3.151145  0.0  0.0  1.0   \n",
       "2      0.530739  ...  0.0  66.0   4034.0  1.311849  2.464511  0.0  0.0  0.0   \n",
       "3      0.424442  ...  0.0  15.0   5605.0  1.042284  1.818150  0.0  0.0  0.0   \n",
       "4      0.411780  ...  0.0  45.0  11494.0  1.107099  2.257872  0.0  0.0  0.0   \n",
       "5      0.254691  ...  0.0  75.0  21956.0  0.899025  2.224940  0.0  0.0  0.0   \n",
       "\n",
       "                  \n",
       "       75%   max  \n",
       "stars             \n",
       "1      2.0  75.0  \n",
       "2      2.0  44.0  \n",
       "3      1.0  21.0  \n",
       "4      1.0  48.0  \n",
       "5      1.0  98.0  \n",
       "\n",
       "[5 rows x 24 columns]"
      ]
     },
     "execution_count": 7,
     "metadata": {},
     "output_type": "execute_result"
    }
   ],
   "source": [
    "df.groupby('stars').describe()\n"
   ]
  },
  {
   "cell_type": "code",
   "execution_count": 8,
   "metadata": {},
   "outputs": [],
   "source": [
    "df['length'] = df['text'].apply(len)\n",
    "df['text'] = df['text'].str.lower()"
   ]
  },
  {
   "cell_type": "code",
   "execution_count": 9,
   "metadata": {},
   "outputs": [
    {
     "data": {
      "text/plain": [
       "<matplotlib.axes._subplots.AxesSubplot at 0x11af8f7b8>"
      ]
     },
     "execution_count": 9,
     "metadata": {},
     "output_type": "execute_result"
    },
    {
     "data": {
      "image/png": "[encoded data removed]",
      "text/plain": [
       "<Figure size 432x288 with 1 Axes>"
      ]
     },
     "metadata": {
      "needs_background": "light"
     },
     "output_type": "display_data"
    }
   ],
   "source": [
    "df['length'].plot(bins=50, kind='hist')"
   ]
  },
  {
   "cell_type": "code",
   "execution_count": 10,
   "metadata": {},
   "outputs": [
    {
     "data": {
      "text/plain": [
       "count    50000.000000\n",
       "mean       571.614280\n",
       "std        529.622173\n",
       "min          2.000000\n",
       "25%        228.000000\n",
       "50%        405.000000\n",
       "75%        729.000000\n",
       "max       5000.000000\n",
       "Name: length, dtype: float64"
      ]
     },
     "execution_count": 10,
     "metadata": {},
     "output_type": "execute_result"
    }
   ],
   "source": [
    "df.length.describe()"
   ]
  },
  {
   "cell_type": "code",
   "execution_count": 11,
   "metadata": {},
   "outputs": [
    {
     "data": {
      "text/plain": [
       "array([[<matplotlib.axes._subplots.AxesSubplot object at 0x119ef2198>,\n",
       "        <matplotlib.axes._subplots.AxesSubplot object at 0x1192fcba8>],\n",
       "       [<matplotlib.axes._subplots.AxesSubplot object at 0x119cd9198>,\n",
       "        <matplotlib.axes._subplots.AxesSubplot object at 0x119838748>],\n",
       "       [<matplotlib.axes._subplots.AxesSubplot object at 0x118481cf8>,\n",
       "        <matplotlib.axes._subplots.AxesSubplot object at 0x117d092e8>]],\n",
       "      dtype=object)"
      ]
     },
     "execution_count": 11,
     "metadata": {},
     "output_type": "execute_result"
    },
    {
     "data": {
      "image/png": "[encoded data removed]",
      "text/plain": [
       "<Figure size 864x288 with 6 Axes>"
      ]
     },
     "metadata": {
      "needs_background": "light"
     },
     "output_type": "display_data"
    }
   ],
   "source": [
    "df.hist(column='length', by='stars', bins=50,figsize=(12,4))"
   ]
  },
  {
   "cell_type": "code",
   "execution_count": null,
   "metadata": {},
   "outputs": [],
   "source": []
  },
  {
   "cell_type": "code",
   "execution_count": 12,
   "metadata": {},
   "outputs": [],
   "source": [
    "import string\n",
    "def remove_punctuations(text):\n",
    "    for punctuation in string.punctuation:\n",
    "        text = text.replace(punctuation, '')\n",
    "    return text"
   ]
  },
  {
   "cell_type": "code",
   "execution_count": 13,
   "metadata": {},
   "outputs": [],
   "source": [
    "df[\"review_no_punct\"] = df['text'].apply(remove_punctuations)"
   ]
  },
  {
   "cell_type": "code",
   "execution_count": 14,
   "metadata": {},
   "outputs": [
    {
     "data": {
      "text/plain": [
       "0        as someone who has worked with many museums i ...\n",
       "1        i am actually horrified this place is still in...\n",
       "2        i love deagans i do i really do the atmosphere...\n",
       "3        dismal lukewarm defrostedtasting texmex glop\\n...\n",
       "4        oh happy day finally have a canes near my casa...\n",
       "5        this is definitely my favorite fast food sub s...\n",
       "6        really good place with simple decor amazing fo...\n",
       "7        awesome office and staff very professional and...\n",
       "8        most delicious authentic italian ive had in th...\n",
       "9        i have been here twice very nice and laid back...\n",
       "10       maria is very good at what she does with great...\n",
       "11       order in delivery review\\n\\ni discovered this ...\n",
       "12       we purchased new office furniture from this lo...\n",
       "13       everything that my husband and i tried today w...\n",
       "14       called for a 515 morning reservation the drive...\n",
       "15       if i could give less than one star that would ...\n",
       "16       10pm on a super bowl sunday and theyre already...\n",
       "17       a close friend was in town and so instead of t...\n",
       "18       tried to have my car repaired  even made an ap...\n",
       "19       my husband and i go there once a week since la...\n",
       "20       amazing simply amazing believe all of the hype...\n",
       "21       holy heck this place is amazing i love their c...\n",
       "22       coconuts fish cafe is a fantastic five stars f...\n",
       "23       i love the classes at this gym zumba and radio...\n",
       "24       as the previous person posted what more can re...\n",
       "25       in the heart of chinatown i discovered it enro...\n",
       "26       always a fun outing to come for great hot dogs...\n",
       "27       was a chicago style deep dish  homemade type c...\n",
       "28       first time eating there and everything was so ...\n",
       "29       just not good  we want it to be  we have been ...\n",
       "                               ...                        \n",
       "49970    first time visit and i was very impressed kind...\n",
       "49971    never again  im pretty sure we just watched a ...\n",
       "49972    great friendly service with good suggestions a...\n",
       "49973    came here for dinner and were very impressed  ...\n",
       "49974    my sweettoothed chocoholic travel companion ad...\n",
       "49975    if i could give more stars i would  hands down...\n",
       "49976    i love this take on traditional chinese i brou...\n",
       "49977    great steaks and salmon  always love the potat...\n",
       "49978    kam fung is a place for someone looking to eat...\n",
       "49979    great tasting green veggie curry with tofu i h...\n",
       "49980    only have been to the movie theatre but you pi...\n",
       "49981    i love angry crab and order from here very oft...\n",
       "49982    came here with my boyfriend we wanted a late n...\n",
       "49983    not bad if i do say so myself managed to snag ...\n",
       "49984    i love everything about this place from the ch...\n",
       "49985    first time getting this type of massage it was...\n",
       "49986    fantastic food great service \\nawesome drinks ...\n",
       "49987    this place resembles more of a moroccan bazar ...\n",
       "49988    attended for a wedding and the food was alrigh...\n",
       "49989    ive gone there twice once when it first opened...\n",
       "49990    lessons for everyon going to dmv in southern n...\n",
       "49991    they did an amazing job with my pedicure i wil...\n",
       "49992    sooooooo yooooomy i loveeeeeeee this placeeeee...\n",
       "49993    my spouse and i wanted a really nice dinner fo...\n",
       "49994    so good\\n\\nso good\\n\\nlots of vegetarian optio...\n",
       "49995    there was this cashier thats shit rude and end...\n",
       "49996    i love pierogis we showed up got a table and w...\n",
       "49997    an impromptu sunday night dinner invite from m...\n",
       "49998    id give this 35 stars if i could\\n\\nthe space ...\n",
       "49999    i have visited this restaurant many times and ...\n",
       "Name: review_no_punct, Length: 50000, dtype: object"
      ]
     },
     "execution_count": 14,
     "metadata": {},
     "output_type": "execute_result"
    }
   ],
   "source": [
    "df['review_no_punct']"
   ]
  },
  {
   "cell_type": "code",
   "execution_count": 15,
   "metadata": {},
   "outputs": [],
   "source": [
    "def remove_stopwords(text):\n",
    "    tokens = [word for word in text.split() if word.isalpha()]\n",
    "    tokens = [word for word in tokens if len(word) > 1]\n",
    "    tokens = [word for word in tokens if len(word) > 1]\n",
    "    return ''.join(tokens)"
   ]
  },
  {
   "cell_type": "code",
   "execution_count": 16,
   "metadata": {},
   "outputs": [],
   "source": [
    "df[\"review_no_stopwords\"] = df['review_no_punct'].apply(remove_punctuations)"
   ]
  },
  {
   "cell_type": "code",
   "execution_count": 17,
   "metadata": {},
   "outputs": [
    {
     "data": {
      "text/plain": [
       "0    as someone who has worked with many museums i ...\n",
       "1    i am actually horrified this place is still in...\n",
       "2    i love deagans i do i really do the atmosphere...\n",
       "3    dismal lukewarm defrostedtasting texmex glop\\n...\n",
       "4    oh happy day finally have a canes near my casa...\n",
       "Name: review_no_stopwords, dtype: object"
      ]
     },
     "execution_count": 17,
     "metadata": {},
     "output_type": "execute_result"
    }
   ],
   "source": [
    "df['review_no_stopwords'].head()"
   ]
  },
  {
   "cell_type": "code",
   "execution_count": 18,
   "metadata": {},
   "outputs": [
    {
     "data": {
      "text/plain": [
       "'as someone who has worked with many museums i was eager to visit this gallery on my most recent trip to las vegas when i saw they would be showing infamous eggs of the house of faberge from the virginia museum of fine arts vmfa i knew i had to go\\n\\ntucked away near the gelateria and the garden the gallery is pretty much hidden from view its what real estate agents would call cozy or charming  basically any euphemism for small\\n\\nthat being said you can still see wonderful art at a gallery of any size so why the two s you ask let me tell you\\n\\n pricing for this while relatively inexpensive for a las vegas attraction is completely over the top for the space and the amount of art you can fit in there it is a bit much\\n its not kid friendly at all seriously dont bring them\\n the security is not trained properly for the show when the curating and design teams collaborate for exhibitions there is a definite flow that means visitors should view the art in a certain sequence whether it be by historical period or cultural significance this is how audio guides are usually developed when i arrived in the gallery i could not tell where to start and security was certainly not helpful i was told to just look around and do whatever \\n\\nat such a fine institution i find the lack of knowledge and respect for the art appalling'"
      ]
     },
     "execution_count": 18,
     "metadata": {},
     "output_type": "execute_result"
    }
   ],
   "source": [
    "df['review_no_stopwords'].head()[0]"
   ]
  },
  {
   "cell_type": "code",
   "execution_count": 24,
   "metadata": {},
   "outputs": [],
   "source": [
    "df = df.replace(r'\\n','', regex=True) "
   ]
  },
  {
   "cell_type": "code",
   "execution_count": 27,
   "metadata": {},
   "outputs": [
    {
     "data": {
      "text/plain": [
       "'as someone who has worked with many museums i was eager to visit this gallery on my most recent trip to las vegas when i saw they would be showing infamous eggs of the house of faberge from the virginia museum of fine arts vmfa i knew i had to go  tucked away near the gelateria and the garden the gallery is pretty much hidden from view its what real estate agents would call cozy or charming  basically any euphemism for small  that being said you can still see wonderful art at a gallery of any size so why the two s you ask let me tell you   pricing for this while relatively inexpensive for a las vegas attraction is completely over the top for the space and the amount of art you can fit in there it is a bit much  its not kid friendly at all seriously dont bring them  the security is not trained properly for the show when the curating and design teams collaborate for exhibitions there is a definite flow that means visitors should view the art in a certain sequence whether it be by historical period or cultural significance this is how audio guides are usually developed when i arrived in the gallery i could not tell where to start and security was certainly not helpful i was told to just look around and do whatever   at such a fine institution i find the lack of knowledge and respect for the art appalling'"
      ]
     },
     "execution_count": 27,
     "metadata": {},
     "output_type": "execute_result"
    }
   ],
   "source": [
    "df['review_no_stopwords'].head()[0]"
   ]
  },
  {
   "cell_type": "code",
   "execution_count": null,
   "metadata": {},
   "outputs": [],
   "source": []
  }
 ],
 "metadata": {
  "kernelspec": {
   "display_name": "Python 3",
   "language": "python",
   "name": "python3"
  },
  "language_info": {
   "codemirror_mode": {
    "name": "ipython",
    "version": 3
   },
   "file_extension": ".py",
   "mimetype": "text/x-python",
   "name": "python",
   "nbconvert_exporter": "python",
   "pygments_lexer": "ipython3",
   "version": "3.7.3"
  }
 },
 "nbformat": 4,
 "nbformat_minor": 4
}
